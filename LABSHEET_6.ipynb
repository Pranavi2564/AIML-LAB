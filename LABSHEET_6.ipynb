{
  "nbformat": 4,
  "nbformat_minor": 0,
  "metadata": {
    "colab": {
      "provenance": []
    },
    "kernelspec": {
      "name": "python3",
      "display_name": "Python 3"
    },
    "language_info": {
      "name": "python"
    }
  },
  "cells": [
    {
      "cell_type": "code",
      "execution_count": 20,
      "metadata": {
        "id": "EW-pbuFrb0Lv"
      },
      "outputs": [],
      "source": [
        "import numpy as np\n",
        "import pandas as pd"
      ]
    },
    {
      "cell_type": "code",
      "source": [
        "import matplotlib.pyplot as plt\n",
        "import matplotlib.animation as animation"
      ],
      "metadata": {
        "id": "DNv12A-NcvJM"
      },
      "execution_count": 21,
      "outputs": []
    },
    {
      "cell_type": "code",
      "source": [
        "data = pd.read_csv('/content/sample_data/Sales.csv')"
      ],
      "metadata": {
        "id": "6ZjJiLl8eKZw"
      },
      "execution_count": 22,
      "outputs": []
    },
    {
      "cell_type": "code",
      "source": [
        "x = data['GrLivArea']\n",
        "y = data['SalePrice']"
      ],
      "metadata": {
        "id": "2uqQBX9-eVsh"
      },
      "execution_count": 23,
      "outputs": []
    },
    {
      "cell_type": "code",
      "source": [
        "x = (x-x.mean())/x.std()\n",
        "x = np.c_[np.ones(x.shape[0]), x]"
      ],
      "metadata": {
        "id": "rqGBp3NLfg63"
      },
      "execution_count": 24,
      "outputs": []
    },
    {
      "cell_type": "markdown",
      "source": [
        "### GRADIENT DESCENT"
      ],
      "metadata": {
        "id": "CnVJ2_rwf6ex"
      }
    },
    {
      "cell_type": "code",
      "source": [
        "alpha = 0.01 #step size\n",
        "iterations = 2000 #no. of iterations\n",
        "m = y.size #no. of data points\n",
        "np.random.seed(123) #set the seed\n",
        "theta = np.random.rand(2) #pick some radom values to start with"
      ],
      "metadata": {
        "id": "m-OldB_dgA8A"
      },
      "execution_count": 25,
      "outputs": []
    },
    {
      "cell_type": "code",
      "source": [
        "def gradient_descent (x, y, theta, iterations, alpha):\n",
        "  past_costs = []\n",
        "  past_thetas = [theta]\n",
        "  for i in range(iterations):\n",
        "    prediction = np.dot(x, theta)\n",
        "    error = prediction - y\n",
        "    cost = 1/(2*m)*np.dot(error.T, error)\n",
        "    past_costs.append(cost)\n",
        "    theta = theta - (alpha*(1/m)*np.dot(x.T, error))\n",
        "    past_thetas.append(theta)\n",
        "\n",
        "  return past_thetas, past_costs"
      ],
      "metadata": {
        "id": "A4Vk7DgTg6T4"
      },
      "execution_count": 26,
      "outputs": []
    },
    {
      "cell_type": "code",
      "source": [
        "past_thetas, past_costs = gradient_descent(x, y, theta, iterations, alpha)\n",
        "theta = past_thetas[-1]"
      ],
      "metadata": {
        "id": "K4AS6gWTiB7I"
      },
      "execution_count": 27,
      "outputs": []
    },
    {
      "cell_type": "code",
      "source": [
        "print(\"Gadient Descent: {:.2f}, {:.2f}\".format(theta[0], theta[1]))"
      ],
      "metadata": {
        "colab": {
          "base_uri": "https://localhost:8080/"
        },
        "id": "7R8mdrA9j7bY",
        "outputId": "d8a87474-cef9-4318-da90-7d1fd90b69b0"
      },
      "execution_count": 28,
      "outputs": [
        {
          "output_type": "stream",
          "name": "stdout",
          "text": [
            "Gadient Descent: 180921.20, 56294.90\n"
          ]
        }
      ]
    },
    {
      "cell_type": "code",
      "source": [
        "plt.title('Cost Function J')\n",
        "plt.xlabel('no. of iterations')\n",
        "plt.ylabel('cost')\n",
        "plt.plot(past_costs)\n",
        "plt.show()"
      ],
      "metadata": {
        "colab": {
          "base_uri": "https://localhost:8080/",
          "height": 472
        },
        "id": "Vup-juObkNkG",
        "outputId": "7813f794-e00a-4991-985b-35628db47c7b"
      },
      "execution_count": 29,
      "outputs": [
        {
          "output_type": "display_data",
          "data": {
            "text/plain": [
              "<Figure size 640x480 with 1 Axes>"
            ],
            "image/png": "[encoded data removed]"
          },
          "metadata": {}
        }
      ]
    },
    {
      "cell_type": "markdown",
      "source": [
        "###ANIMATION"
      ],
      "metadata": {
        "id": "fhQswFoxl2_n"
      }
    },
    {
      "cell_type": "code",
      "source": [
        "fig = plt.figure()\n",
        "ax = plt.axes()\n",
        "plt.title('Sale Price vs Living Area')\n",
        "plt.xlabel('Living Area in square feet (normalised)')\n",
        "plt.ylabel('Sale Price ($)')\n",
        "plt.scatter(x[:,1], y, color='red')\n",
        "line, = ax.plot([], [], lw=2)\n",
        "annotation = ax.text(-1, 700000, '')\n",
        "annotation.set_animated(True)\n",
        "plt.close()"
      ],
      "metadata": {
        "id": "7lLZxtiWl1JW"
      },
      "execution_count": 30,
      "outputs": []
    },
    {
      "cell_type": "code",
      "source": [
        "def init():\n",
        "  line.set_data([], [])\n",
        "  annotation.set_text('')\n",
        "  return line, annotation"
      ],
      "metadata": {
        "id": "OAw5Nj6vnn-n"
      },
      "execution_count": 31,
      "outputs": []
    },
    {
      "cell_type": "code",
      "source": [
        "def animate(i):\n",
        "  x = np.linspace(-5, 20, 1000)\n",
        "  y = past_thetas[i][1]*x + past_thetas[i][0]\n",
        "  line.set_data(x, y)\n",
        "  annotation.set_text('Cost = %.2f e10' % (past_costs[i]/10000000000))\n",
        "  return line, annotation\n",
        "\n",
        "anim = animation.FuncAnimation(fig, animate, init_func=init,frames=300, interval=0, blit=True)\n",
        "\n",
        "anim.save('animation.gif', writer='imagemagick', fps = 30)"
      ],
      "metadata": {
        "id": "DXMkvjoAoAF-",
        "colab": {
          "base_uri": "https://localhost:8080/"
        },
        "outputId": "b74a5401-6ac4-4ad3-bbfa-d916604dc72a"
      },
      "execution_count": 32,
      "outputs": [
        {
          "output_type": "stream",
          "name": "stderr",
          "text": [
            "WARNING:matplotlib.animation:MovieWriter imagemagick unavailable; using Pillow instead.\n"
          ]
        }
      ]
    },
    {
      "cell_type": "code",
      "source": [
        "import io\n",
        "import base64\n",
        "from IPython.display import HTML\n",
        "\n",
        "filename = 'animation.gif'\n",
        "\n",
        "video = io.open(filename, 'r+b').read()\n",
        "encoded = base64.b64encode(video)\n",
        "HTML(data=''''''.format(encoded.decode('ascii')))"
      ],
      "metadata": {
        "id": "bIvF9gDUA1tu"
      },
      "execution_count": 36,
      "outputs": []
    }
  ]
}